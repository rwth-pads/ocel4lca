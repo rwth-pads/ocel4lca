{
 "cells": [
  {
   "cell_type": "code",
   "id": "initial_id",
   "metadata": {
    "collapsed": true
   },
   "source": [
    "import pandas as pd\n",
    "import pm4py\n",
    "import numpy as np\n"
   ],
   "outputs": [],
   "execution_count": null
  },
  {
   "metadata": {},
   "cell_type": "code",
   "source": "# hinge = pm4py.read_ocel2(\"socel_hinge.xml\")",
   "id": "6ffabed3033e8fa0",
   "outputs": [],
   "execution_count": null
  },
  {
   "metadata": {},
   "cell_type": "code",
   "source": [
    "events = pd.read_csv('events.csv', keep_default_na=False) # keep_default_na=False\n",
    "for col in events.columns:\n",
    "    if col in [\"ocel:timestamp\", \"ocel:eid\", \"ocel:activity\", \"paint name\"]:\n",
    "        continue\n",
    "    events[col] = pd.to_numeric(events[col])\n",
    "events = events.fillna(np.nan)\n",
    "\n",
    "events[\"ocel:timestamp\"] = pd.to_datetime(events[\"ocel:timestamp\"], format='%d.%m.%Y %H:%M:%S')\n",
    "objects = pd.read_csv('objects.csv', keep_default_na=False) # keep_default_na=False\n",
    "for col in objects.columns:\n",
    "    if col in [\"ocel:oid\", \"ocel:type\", \"type\", \"recycled\"]:\n",
    "        continue\n",
    "    objects[col] = pd.to_numeric(objects[col])\n",
    "objects = objects.fillna(np.nan)\n",
    "e2o = pd.read_csv('e2o.csv', keep_default_na=False) # keep_default_na=False\n",
    "e2o[\"ocel:timestamp\"] = pd.to_datetime(e2o[\"ocel:timestamp\"], format='%d.%m.%Y %H:%M:%S')"
   ],
   "id": "de0289d0e068f30",
   "outputs": [],
   "execution_count": null
  },
  {
   "metadata": {},
   "cell_type": "code",
   "source": [
    "from pm4py.objects.ocel.obj import OCEL\n",
    "ocel = OCEL(objects=objects, events=events, relations=e2o)"
   ],
   "id": "c1027f3882c33fa4",
   "outputs": [],
   "execution_count": null
  },
  {
   "metadata": {},
   "cell_type": "code",
   "source": [
    "ocpn = pm4py.ocel.discover_oc_petri_net(ocel)\n",
    "pm4py.vis.view_ocpn(ocpn)"
   ],
   "id": "e738db61a210b52b",
   "outputs": [],
   "execution_count": null
  },
  {
   "metadata": {},
   "cell_type": "code",
   "source": [
    "ocdfg = pm4py.ocel.discover_ocdfg(ocel)\n",
    "pm4py.vis.view_ocdfg(ocdfg, annotation=\"performance\")"
   ],
   "id": "ffb46a212e91b86d",
   "outputs": [],
   "execution_count": null
  },
  {
   "metadata": {},
   "cell_type": "code",
   "source": "pm4py.vis.save_vis_ocdfg(ocdfg, \"ocdfg.svg\", format=\"svg\", annotation=\"performance\")",
   "id": "48dfef4347a36d2a",
   "outputs": [],
   "execution_count": null
  },
  {
   "metadata": {},
   "cell_type": "code",
   "source": [
    "pm4py.write_ocel2_sqlite(ocel, \"ocel\")\n",
    "pm4py.write_ocel2_xml(ocel, \"ocel\")\n",
    "pm4py.write_ocel2_json(ocel, \"ocel\")"
   ],
   "id": "87245ac00afa96ea",
   "outputs": [],
   "execution_count": null
  },
  {
   "metadata": {},
   "cell_type": "code",
   "source": [
    "# load impact overview\n",
    "impacts = pd.read_csv('impacts.csv', keep_default_na=False)\n",
    "ibjects = impacts[impacts[\"type type\"] == \"object\"]\n",
    "ivents = impacts[impacts[\"type type\"] == \"event\"]"
   ],
   "id": "f515dfb71c13387d",
   "outputs": [],
   "execution_count": null
  },
  {
   "metadata": {},
   "cell_type": "code",
   "source": [
    "CHART_COLOURS = [\"#006165\", # petrol\n",
    "                 \"#CE108A\", # pink\n",
    "                 \"#0098A1\", # turquoise\n",
    "                 \"#F6A800\", # orange\n",
    "                \"#00549F\", # blue\n",
    "                \"#6f2b4b\",# purple\n",
    "                 \"#8EBAE5\", # light blue\n",
    "                \"#000080\", # dark blue\n",
    "                \"#007e56\", # lighter greeny-turquoise\n",
    "                \"#005d4c\", # perl-ophal green\n",
    "                \"#a1dfd7\", #light-turquoise\n",
    "                \"#cd00cd\", # pink\n",
    "\n",
    "                 \"#28713e\", # green\n",
    "                 \"#701f29\", # purpur-red\n",
    "\n",
    "                 \"#5d2141\", # other purple\n",
    "                 \"#a1dfd7\", #light-turquoise\n",
    "\n",
    "                \"#00ffff\", # cyan\n",
    "                \"#39ff14\", # neon green\n",
    "                 \"#800080\", #purpur\n",
    "                \"#005f6a\", # blue-petrol\n",
    "                \"#76e1e0\", # another turquopise\n",
    "                \"#f5ff00\" # neon-yellow\n",
    "                 ]"
   ],
   "id": "7e142f0099b690a4",
   "outputs": [],
   "execution_count": null
  },
  {
   "metadata": {},
   "cell_type": "code",
   "source": [
    "import plotly.express as px\n",
    "fig = px.sunburst(ibjects, path=['type type', 'instance type', 'instance', 'type'], values='impact', color='type', color_discrete_sequence=CHART_COLOURS)\n",
    "# show colors in legend\n",
    "\n",
    "\n",
    "fig.show()"
   ],
   "id": "12a101b8e3e4ff88",
   "outputs": [],
   "execution_count": null
  },
  {
   "metadata": {},
   "cell_type": "code",
   "source": [
    "ivents = ivents.sort_values(by='impact', ascending=False)\n",
    "fig = px.sunburst(ivents, path=['type type', 'instance type', 'instance', 'name'], values='impact', color='type', color_discrete_sequence=CHART_COLOURS)\n",
    "fig.show()"
   ],
   "id": "387ba07dfef1872a",
   "outputs": [],
   "execution_count": null
  },
  {
   "metadata": {},
   "cell_type": "code",
   "source": [
    "# allocated impacts\n",
    "alloc = pd.read_csv('allocated_impacts.csv')"
   ],
   "id": "fae40830a717be51",
   "outputs": [],
   "execution_count": null
  },
  {
   "metadata": {},
   "cell_type": "code",
   "source": [
    "# create stacked bar chart for allocated impacts per object\n",
    "import plotly.express as px\n",
    "fig = px.bar(alloc, x=\"bike\", y=\"impact\", pattern_shape=\"type\", color=\"name\", barmode=\"stack\", color_discrete_sequence=CHART_COLOURS)\n",
    "fig.show()"
   ],
   "id": "445b5fd95302b3ed",
   "outputs": [],
   "execution_count": null
  },
  {
   "metadata": {},
   "cell_type": "code",
   "source": [
    "import pygraphviz as pgv\n",
    "G = pgv.AGraph(directed=False)\n",
    "G.add_node(\"bk1\", color=\"#CE108A\")\n",
    "G.add_node(\"bk2\", color=\"#CE108A\")\n",
    "# G.add_node(\"f1\", color=\"#0098A1\")\n",
    "# G.add_node(\"f2\", color=\"#0098A1\")\n",
    "# G.add_node(\"w1\", color=\"#0098A1\")\n",
    "# G.add_node(\"w2\", color=\"#0098A1\")\n",
    "# G.add_node(\"g1\", color=\"#0098A1\")\n",
    "# G.add_node(\"g2\", color=\"#0098A1\")\n",
    "G.add_nodes_from([\"o1\", \"o2\", \"sm1\", \"sm2\", \"dc1\", \"t1\", \"pk1\", \"g1\", \"g2\", \"f1\", \"f2\", \"w1\", \"w2\"])"
   ],
   "id": "962405f6f0d1b0dc",
   "outputs": [],
   "execution_count": null
  },
  {
   "metadata": {},
   "cell_type": "code",
   "source": [
    "edges = [\n",
    "    (\"o1\", \"w1\"),\n",
    "    (\"o1\", \"f1\"),\n",
    "    (\"o1\", \"g1\"),\n",
    "    (\"w1\", \"f1\"),\n",
    "    (\"f1\", \"g1\"),\n",
    "    (\"f1\", \"bk1\"),\n",
    "    (\"bk1\", \"g1\"),\n",
    "    (\"bk1\", \"t1\"),\n",
    "    (\"bk1\", \"pk1\"),\n",
    "    (\"w1\", \"g1\"),\n",
    "    (\"f1\", \"sm1\"),\n",
    "    (\"f1\", \"dc1\"),\n",
    "    (\"f2\", \"sm2\"),\n",
    "    (\"f2\", \"dc1\"),\n",
    "    (\"f2\", \"bk2\"),\n",
    "    (\"f2\", \"o2\"),\n",
    "    (\"f2\", \"w2\"),\n",
    "    (\"f2\", \"g2\"),\n",
    "    (\"w2\", \"g2\"),\n",
    "    (\"w2\", \"o2\"),\n",
    "    (\"w2\", \"bk2\"),\n",
    "    (\"bk2\", \"t1\"),\n",
    "    (\"bk2\", \"pk1\"),\n",
    "    (\"bk2\", \"g2\"),\n",
    "    (\"o2\", \"g2\"),\n",
    "]\n",
    "G.add_edges_from(edges)"
   ],
   "id": "8dd487023f354155",
   "outputs": [],
   "execution_count": null
  },
  {
   "metadata": {},
   "cell_type": "code",
   "source": [
    "G.layout(prog=\"dot\")\n",
    "G.draw(\"object_graph.png\")"
   ],
   "id": "84688ae01f0d4d69",
   "outputs": [],
   "execution_count": null
  }
 ],
 "metadata": {
  "kernelspec": {
   "display_name": "Python 3",
   "language": "python",
   "name": "python3"
  },
  "language_info": {
   "codemirror_mode": {
    "name": "ipython",
    "version": 2
   },
   "file_extension": ".py",
   "mimetype": "text/x-python",
   "name": "python",
   "nbconvert_exporter": "python",
   "pygments_lexer": "ipython2",
   "version": "2.7.6"
  }
 },
 "nbformat": 4,
 "nbformat_minor": 5
}
