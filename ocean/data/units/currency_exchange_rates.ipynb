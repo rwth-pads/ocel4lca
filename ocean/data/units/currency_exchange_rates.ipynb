{
 "cells": [
  {
   "cell_type": "markdown",
   "id": "fb22b0ed-c041-4d4f-b1a2-c92a52e2086e",
   "metadata": {},
   "source": [
    "# Currency exchange rates\n",
    "\n",
    "For spend-based emission factors, we define the currencies supported by the climatiq API in the `pint` unit registry.\n",
    "\n",
    "For this, current exchange rates are extracted.\n",
    "\n",
    "Note: OCEAn currently does not actively convert any currencies. However, they do need to be defined somehow for the user to assign a currency to an OCEL attribute. When accessing a climatiq emission factor, the original unit is passed, with any conversions then handled by the climatiq API."
   ]
  },
  {
   "cell_type": "code",
   "execution_count": null,
   "id": "5172d367-c0bb-4ba3-bea7-0a484d646e78",
   "metadata": {},
   "outputs": [],
   "source": [
    "import os\n",
    "from pathlib import Path\n",
    "os.chdir(\"../../src/backend\")\n",
    "assert Path(os.getcwd()).name == \"backend\"\n",
    "\n",
    "import re\n",
    "import pandas as pd\n",
    "import pint\n",
    "\n",
    "from api.config import config\n",
    "from units.climatiq import ClimatiqUnitType"
   ]
  },
  {
   "cell_type": "markdown",
   "id": "8dc7fa2e",
   "metadata": {},
   "source": [
    "## How to update exchange rates?\n",
    "\n",
    "- Below, set `CURRENCY_EXCHANGE_DATE` to today and execute the cell."
   ]
  },
  {
   "cell_type": "code",
   "execution_count": null,
   "id": "fd59fa10-ef01-44ab-81c5-900bcb90f079",
   "metadata": {},
   "outputs": [],
   "source": [
    "# CURRENCY_EXCHANGE_DATE = \"20240314\"\n",
    "CURRENCY_EXCHANGE_DATE = \"20241005\"\n",
    "\n",
    "ref = \"eur\"\n",
    "\"\"\"Reference currency\"\"\"\n",
    "\n",
    "PINT_CURRENCY_CONTEXT = f\"FX_{CURRENCY_EXCHANGE_DATE}\"\n",
    "CSV_FILE_NAME = f\"{CURRENCY_EXCHANGE_DATE}_currency_exchange_rates.csv\"\n",
    "UNIT_DEFINITION_FILE_PATH = config.DATA_DIR /\"units\" / f\"{CURRENCY_EXCHANGE_DATE}_climatiq_pint_currencies.txt\"\n",
    "\n",
    "print(f\"CURRENCY_EXCHANGE_DATE: {CURRENCY_EXCHANGE_DATE}\")\n",
    "print(f\"PINT_CURRENCY_CONTEXT: {PINT_CURRENCY_CONTEXT}\")\n",
    "print(f\"CSV_FILE_NAME: {CSV_FILE_NAME}\")"
   ]
  },
  {
   "cell_type": "markdown",
   "id": "78ccba14",
   "metadata": {},
   "source": [
    "- Copy a spreadsheet named like `YYYYMMDD_currency_exchange_rates.xlsx` and rename with date equal to `CURRENCY_EXCHANGE_DATE`.\n",
    "- Open the file with Excel. The exchange rates should update automatically. To check this, compare with old `.csv` exports.\n",
    "- Save as `.csv` with name like `CSV_FILE_NAME`.\n",
    "- Run the following sanity checks."
   ]
  },
  {
   "cell_type": "code",
   "execution_count": null,
   "id": "d57dce45-d5c1-4729-aa47-d8b58d7cf496",
   "metadata": {},
   "outputs": [],
   "source": [
    "cdf = pd.read_csv(config.DATA_DIR /\"units\" / CSV_FILE_NAME, delimiter=\";\", decimal=\",\")\n",
    "cdf[\"iso_currency_code\"] = cdf[\"iso_currency_code\"].str.lower()\n",
    "cdf[\"rel\"] = cdf[\"rel\"].str.lower()\n",
    "cdf.loc[cdf[\"rel\"] == f\"{ref}/{ref}\", \"rate\"] = 1\n",
    "\n",
    "# Completeness checks for conversion table\n",
    "climatiq_currencies = ClimatiqUnitType._UNIT_TYPES[\"Money\"].units[\"money_unit\"]\n",
    "missing_currencies = [c for c in climatiq_currencies if c.lower() not in cdf[\"iso_currency_code\"].values]\n",
    "assert ref in cdf[\"iso_currency_code\"].values, f\"Reference currency ({ref}) not found.\"\n",
    "assert not missing_currencies, f\"Conversion table misses {len(missing_currencies)} currencies ({', '.join(missing_currencies)})\"\n",
    "assert cdf.apply(lambda row: row[\"rel\"] == f\"{row['iso_currency_code']}/{ref}\", axis=1).all(), f\"Inconsistent currency rates (must refer to {ref})\"\n",
    "assert cdf.drop(columns=[\"currency\", \"country\", \"symbol\"]).notna().all().all(), \"Conversion table has empty cells\"\n",
    "\n",
    "cdf"
   ]
  },
  {
   "cell_type": "markdown",
   "id": "2b132dbe",
   "metadata": {},
   "source": [
    "## Export and use\n",
    "\n",
    "- Run the following cells to create a new pint currency context file.\n",
    "- In `.env`, update `CURRENCY_EXCHANGE_DATE`."
   ]
  },
  {
   "cell_type": "code",
   "execution_count": null,
   "id": "93bb1d16-85f4-47ec-abab-93642562cd01",
   "metadata": {
    "scrolled": true
   },
   "outputs": [],
   "source": [
    "def make_unit_definition_file(cdf: pd.DataFrame):\n",
    "\n",
    "    def get_alias_string(row):\n",
    "        # symbol = row[\"symbol\"] if not pd.isna(row[\"symbol\"]) else \"_\"\n",
    "        # Use iso code as symbol too\n",
    "        iso = row[\"iso_currency_code\"]\n",
    "        symbol = iso\n",
    "        name_alias = row[\"currency\"].replace(\" \", \"\")\n",
    "        aliases = [symbol, name_alias]\n",
    "        return \"\".join([f\" = {a}\" for a in aliases if a])\n",
    "    \n",
    "    lines = []\n",
    "    ref_row = cdf[cdf[\"iso_currency_code\"] == ref].to_dict(\"records\")[0]\n",
    "    lines.append(f\"{ref} = [currency]\" + get_alias_string(ref_row))\n",
    "    lines.append(\"\")\n",
    "    \n",
    "    # https://pint.readthedocs.io/en/stable/advanced/currencies.html\n",
    "    # https://pint.readthedocs.io/en/stable/user/contexts.html\n",
    "    \n",
    "    # Define currency names, without conversion rates\n",
    "    for i, row in cdf.iterrows():\n",
    "        iso = row[\"iso_currency_code\"]\n",
    "        if iso == ref:\n",
    "            continue\n",
    "        aliases = [row[\"currency\"], row[\"symbol\"]]\n",
    "        lines.append(f\"{iso} = nan {ref}\" + get_alias_string(row))\n",
    "    \n",
    "    # Set conversion rates inside a context\n",
    "    lines.append(\"\")\n",
    "    lines.append(f\"@context {PINT_CURRENCY_CONTEXT}\")\n",
    "    for i, row in cdf.iterrows():\n",
    "        iso = row[\"iso_currency_code\"]\n",
    "        if iso == ref:\n",
    "            continue\n",
    "        rate = row[\"rate\"]\n",
    "        lines.append(f\"    {iso} = {rate} {ref}\")\n",
    "    lines.append(\"@end\")\n",
    "    return lines\n",
    "\n",
    "lines = make_unit_definition_file(cdf)\n",
    "for s in lines:\n",
    "    print(s)"
   ]
  },
  {
   "cell_type": "code",
   "execution_count": null,
   "id": "548937e5-a443-49b1-8cb6-b4168b4abd4e",
   "metadata": {},
   "outputs": [],
   "source": [
    "with open(UNIT_DEFINITION_FILE_PATH, \"w\", encoding=\"utf8\") as f:\n",
    "    f.write(\"\\n\".join(make_unit_definition_file(cdf)))\n",
    "print(f\"Custom climatiq units saved to {UNIT_DEFINITION_FILE_PATH}.\")"
   ]
  },
  {
   "cell_type": "code",
   "execution_count": null,
   "id": "415fb2b0-e0b9-4bd9-914b-c803370c564d",
   "metadata": {},
   "outputs": [],
   "source": [
    "import pint\n",
    "\n",
    "ureg = pint.UnitRegistry()\n",
    "ureg.load_definitions(UNIT_DEFINITION_FILE_PATH)\n",
    "ureg.enable_contexts(PINT_CURRENCY_CONTEXT)\n",
    "\n",
    "ureg(\"2.5 eur\").to(\"usd\").to_base_units()"
   ]
  }
 ],
 "metadata": {
  "kernelspec": {
   "display_name": "Python 3 (ipykernel)",
   "language": "python",
   "name": "python3"
  },
  "language_info": {
   "codemirror_mode": {
    "name": "ipython",
    "version": 3
   },
   "file_extension": ".py",
   "mimetype": "text/x-python",
   "name": "python",
   "nbconvert_exporter": "python",
   "pygments_lexer": "ipython3",
   "version": "3.10.4"
  }
 },
 "nbformat": 4,
 "nbformat_minor": 5
}
