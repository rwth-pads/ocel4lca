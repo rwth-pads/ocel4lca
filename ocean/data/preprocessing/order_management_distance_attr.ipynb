{
 "cells": [
  {
   "cell_type": "code",
   "execution_count": 3,
   "id": "8fcdb781",
   "metadata": {},
   "outputs": [],
   "source": [
    "import os\n",
    "import sys\n",
    "from pathlib import Path\n",
    "\n",
    "cwd = Path(os.getcwd())\n",
    "repo = cwd.parent.parent\n",
    "sys.path.append(str(cwd))\n",
    "sys.path.append(str(repo))\n",
    "sys.path.append(str(repo / \"drafts\"))\n",
    "os.chdir(repo / \"src\" / \"backend\")"
   ]
  },
  {
   "cell_type": "markdown",
   "id": "3c7146cc-0568-47be-9bf1-339c635c33eb",
   "metadata": {},
   "source": [
    "# Distance attribute creation"
   ]
  },
  {
   "cell_type": "code",
   "execution_count": 4,
   "id": "99b3c514-e769-4262-8fa5-8e114788999e",
   "metadata": {},
   "outputs": [],
   "source": [
    "from data.evaluation.src.jupyter_utils.preamble import *\n",
    "from ocel.default_ocel import *"
   ]
  },
  {
   "cell_type": "markdown",
   "id": "a741a144-a51f-4016-9109-de4357fadf95",
   "metadata": {},
   "source": [
    "## Import"
   ]
  },
  {
   "cell_type": "code",
   "execution_count": null,
   "id": "6e0280fe-65b6-4543-a621-363a7907780c",
   "metadata": {},
   "outputs": [],
   "source": [
    "ocel = OCELWrapper.read_ocel2_sqlite_with_report(\n",
    "    config.DATA_DIR / \"event_logs\" / \"order-management-v1.sqlite\",\n",
    "    version_info=True,\n",
    "    output=True,\n",
    ")"
   ]
  },
  {
   "cell_type": "markdown",
   "id": "7707f7d6-3949-41dc-b9ab-652aee89420a",
   "metadata": {
    "jp-MarkdownHeadingCollapsed": true
   },
   "source": [
    "## Explore OCEL structure"
   ]
  },
  {
   "cell_type": "code",
   "execution_count": null,
   "id": "bf08216c-c2c2-4d45-a652-aaa4fcb48548",
   "metadata": {},
   "outputs": [],
   "source": [
    "ocel.events"
   ]
  },
  {
   "cell_type": "code",
   "execution_count": null,
   "id": "32428132-e624-46fe-aca5-1715310872a0",
   "metadata": {},
   "outputs": [],
   "source": [
    "ocel.activities"
   ]
  },
  {
   "cell_type": "code",
   "execution_count": null,
   "id": "96962a30",
   "metadata": {},
   "outputs": [],
   "source": [
    "ocel.objects_per_event.loc[\"send package\",:].unstack()"
   ]
  },
  {
   "cell_type": "markdown",
   "id": "bf22edf5-a420-4b52-b3d1-342bd87d2b9a",
   "metadata": {},
   "source": [
    "- every event \"send package\" is related to exactly one *packages* object"
   ]
  },
  {
   "cell_type": "markdown",
   "id": "4b0cbc54-0de1-4f35-99a6-0d08be98670a",
   "metadata": {
    "jp-MarkdownHeadingCollapsed": true
   },
   "source": [
    "# Add `distance` event attribute"
   ]
  },
  {
   "cell_type": "markdown",
   "id": "a249d819-6865-4944-9f30-a9dfc34beac5",
   "metadata": {},
   "source": [
    "## Extract package-customer relations"
   ]
  },
  {
   "cell_type": "markdown",
   "id": "9ecca507",
   "metadata": {},
   "source": [
    "### via object interactions"
   ]
  },
  {
   "cell_type": "code",
   "execution_count": null,
   "id": "8be4bce9",
   "metadata": {},
   "outputs": [],
   "source": [
    "otypes = {\"customers\", \"orders\", \"items\", \"packages\"}\n",
    "interactions = ocel.object_relations(otype1_filter=otypes, otype2_filter=otypes)\n",
    "interactions"
   ]
  },
  {
   "cell_type": "code",
   "execution_count": null,
   "id": "c6807016",
   "metadata": {},
   "outputs": [],
   "source": [
    "OG = nx.from_pandas_edgelist(interactions, source=\"ocel:oid_1\", target=\"ocel:oid_2\")\n",
    "cc = list(nx.connected_components(OG))\n",
    "\n",
    "print(len(OG.nodes()), \"nodes\")\n",
    "print(len(OG.edges()), \"edges\")\n",
    "print(len(cc), \"components\\n\")\n",
    "\n",
    "print(ocel.otype_counts)"
   ]
  },
  {
   "cell_type": "code",
   "execution_count": null,
   "id": "d00a1dbc",
   "metadata": {},
   "outputs": [],
   "source": [
    "customers = set(ocel.objects[ocel.objects[\"ocel:type\"] == \"customers\"][\"ocel:oid\"])\n",
    "[len(customers & C) for C in cc]"
   ]
  },
  {
   "cell_type": "code",
   "execution_count": null,
   "id": "1ec175dc",
   "metadata": {},
   "outputs": [],
   "source": [
    "compdf = pd.DataFrame(list(enumerate(cc)), columns=[\"comp\", \"ocel:oid\"])\n",
    "compdf = compdf.explode(\"ocel:oid\").reset_index(drop=True).pipe(ocel.join_otype)\n",
    "\n",
    "customer_comp = compdf[compdf[\"ocel:type\"] == \"customers\"][[\"ocel:oid\", \"comp\"]].rename(\n",
    "    columns={\"ocel:oid\": \"customer_oid\"}\n",
    ")\n",
    "package_comp = compdf[compdf[\"ocel:type\"] == \"packages\"][[\"ocel:oid\", \"comp\"]].rename(\n",
    "    columns={\"ocel:oid\": \"package_oid\"}\n",
    ")\n",
    "customer_package = customer_comp.merge(package_comp, on=\"comp\")\n",
    "send_package_customer = (\n",
    "    ocel.filter_relations(activity=\"send package\", otype=\"packages\")\n",
    "    .rename(columns={\"ocel:oid\": \"package_oid\"})\n",
    "    .merge(customer_package, on=\"package_oid\")\n",
    ")\n",
    "send_package_customer"
   ]
  },
  {
   "cell_type": "code",
   "execution_count": 70,
   "id": "2bf8fb31",
   "metadata": {},
   "outputs": [],
   "source": [
    "assert (send_package_customer.groupby(\"ocel:eid\")[\"customer_oid\"].nunique() == 1).all()"
   ]
  },
  {
   "cell_type": "markdown",
   "id": "c6007250-67d9-45fe-a0b3-85be580b7cf3",
   "metadata": {},
   "source": [
    "## Assign distance to customer"
   ]
  },
  {
   "cell_type": "code",
   "execution_count": null,
   "id": "3d7236a2-32b0-4b90-a36c-bf2d813ee994",
   "metadata": {},
   "outputs": [],
   "source": [
    "MIN_DISTANCE = 50\n",
    "MAX_DISTANCE = 2000\n",
    "\n",
    "customers = ocel.objects[ocel.objects[\"ocel:type\"] == \"customers\"].copy()\n",
    "customers[\"distance\"] = np.round(MIN_DISTANCE + np.random.rand(len(customers)) * (MAX_DISTANCE - MIN_DISTANCE), decimals=3)\n",
    "customers"
   ]
  },
  {
   "cell_type": "markdown",
   "id": "16eb6f3b-349c-4c0e-aab9-fbf8917c80e9",
   "metadata": {},
   "source": [
    "## Copy distance to \"send package\" event"
   ]
  },
  {
   "cell_type": "code",
   "execution_count": null,
   "id": "a7c239fc-de3e-461d-9c3e-19391ed6984b",
   "metadata": {},
   "outputs": [],
   "source": [
    "send_package_customer = send_package_customer.merge(customers[[\"ocel:oid\", \"distance\"]], left_on=\"customer_oid\", right_on=\"ocel:oid\")\n",
    "send_package_customer"
   ]
  },
  {
   "cell_type": "markdown",
   "id": "6c439774-71c2-4673-8ddd-87d849fd5efd",
   "metadata": {},
   "source": [
    "## Change ``pm4py`` OCEL object and export"
   ]
  },
  {
   "cell_type": "code",
   "execution_count": 74,
   "id": "1dbb3d25-1700-41c7-856e-8d92928e9ca1",
   "metadata": {},
   "outputs": [],
   "source": [
    "customers1 = customers.set_index(\"ocel:oid\")\n",
    "send_package_customer1 = send_package_customer.set_index(\"ocel:eid\")"
   ]
  },
  {
   "cell_type": "code",
   "execution_count": null,
   "id": "515fc194-bce9-43e5-8d54-da4c9de1c976",
   "metadata": {},
   "outputs": [],
   "source": [
    "objects1 = ocel.objects.set_index(\"ocel:oid\")\n",
    "objects1[\"distance\"] = customers1[\"distance\"]\n",
    "objects = objects1.reset_index()\n",
    "objects"
   ]
  },
  {
   "cell_type": "code",
   "execution_count": null,
   "id": "63a81579-47bd-4a09-8116-8f5098444b07",
   "metadata": {},
   "outputs": [],
   "source": [
    "events1 = ocel.events.set_index(\"ocel:eid\")\n",
    "events1[\"distance\"] = send_package_customer1[\"distance\"]\n",
    "events = events1.reset_index()\n",
    "events"
   ]
  },
  {
   "cell_type": "code",
   "execution_count": 77,
   "id": "21ba9235-c6e1-46c4-b48d-20268db084d7",
   "metadata": {},
   "outputs": [],
   "source": [
    "ocel.ocel.objects = objects\n",
    "ocel.ocel.events = events"
   ]
  },
  {
   "cell_type": "code",
   "execution_count": 84,
   "id": "15ae0c3b-8768-4689-9023-852363b2b894",
   "metadata": {},
   "outputs": [],
   "source": [
    "EXPORT_PATH = config.DATA_DIR / \"event_logs/order-management-v1-with-distances.sqlite\""
   ]
  },
  {
   "cell_type": "code",
   "execution_count": 80,
   "id": "156ca049-e4db-4c9b-ae77-092645019134",
   "metadata": {},
   "outputs": [],
   "source": [
    "pm4py.write_ocel2_sqlite(ocel.ocel, EXPORT_PATH)"
   ]
  },
  {
   "cell_type": "markdown",
   "id": "b4e0abef-39c2-4f15-b0be-8336e83fa1eb",
   "metadata": {},
   "source": [
    "## Import the new OCEL"
   ]
  },
  {
   "cell_type": "code",
   "execution_count": null,
   "id": "a53a3f48-f38c-4b80-b033-d34a3b74c050",
   "metadata": {},
   "outputs": [],
   "source": [
    "ocel1 = OCELWrapper.read_ocel2_sqlite_with_report(EXPORT_PATH, version_info=True, output=True)"
   ]
  },
  {
   "cell_type": "code",
   "execution_count": null,
   "id": "5bf366cb-5eb8-4ec1-a845-b465e5e32bac",
   "metadata": {},
   "outputs": [],
   "source": [
    "ocel1.events"
   ]
  },
  {
   "cell_type": "markdown",
   "id": "06df5ee4",
   "metadata": {},
   "source": [
    "## Not implemented: Add `location` object attribute"
   ]
  },
  {
   "cell_type": "code",
   "execution_count": null,
   "id": "8c25a7e0",
   "metadata": {},
   "outputs": [],
   "source": [
    "# customers = ocel.objects[ocel.objects[\"ocel:type\"] == \"customers\"][[\"ocel:oid\", \"ocel:type\"]].copy()\n",
    "# cities = pd.read_csv(\"D:/Dropbox/RWTH/23ws - Master thesis/OCEL analysis/orderManagementLocations.csv\", sep=\";\")\n",
    "# customers[\"city\"] = cities[\"city\"]\n",
    "# customers"
   ]
  },
  {
   "cell_type": "code",
   "execution_count": null,
   "id": "f238796b",
   "metadata": {},
   "outputs": [],
   "source": [
    "# from geopy.geocoders import Nominatim\n",
    "# import functools\n",
    "\n",
    "\n",
    "# # initialize Nominatim API\n",
    "# geolocator = Nominatim(user_agent=\"ocean\")\n",
    "\n",
    "# @functools.lru_cache\n",
    "# def search_location(place: str):\n",
    "#     return geolocator.geocode(place)"
   ]
  },
  {
   "cell_type": "code",
   "execution_count": null,
   "id": "42a406ad",
   "metadata": {},
   "outputs": [],
   "source": [
    "# def get_coords(location):\n",
    "#     if location is None:\n",
    "#         return None, None\n",
    "#     lat = location.latitude\n",
    "#     long = location.longitude\n",
    "#     return lat, long\n",
    "\n",
    "# # # search locations via API\n",
    "# customers[\"coords\"] = customers[\"city\"].apply(search_location).apply(get_coords)\n",
    "\n",
    "# customers\n"
   ]
  },
  {
   "cell_type": "code",
   "execution_count": null,
   "id": "efcd6c7c",
   "metadata": {},
   "outputs": [],
   "source": [
    "# from cartopy import crs as ccrs, feature as cfeature\n",
    "# import matplotlib.pyplot as plt\n",
    "\n",
    "# crs = ccrs.PlateCarree()\n",
    "# plt.figure(figsize=(12,12))\n",
    "# ax = plt.axes(projection=ccrs.Mollweide())\n",
    "# # ax.set_extent([longmin - longpad, longmax + longpad, latmin - latpad, latmax + latpad], crs=crs)\n",
    "\n",
    "# ax.add_feature(cfeature.LAND)\n",
    "# ax.add_feature(cfeature.COASTLINE, linewidth=.5)\n",
    "\n",
    "# ax.add_feature(cfeature.BORDERS, linewidth=.5, alpha=.5)\n",
    "# ax.add_feature(cfeature.STATES, alpha=.25, linewidth=.25)\n",
    "\n",
    "# ax.add_feature(cfeature.LAKES, alpha=0.5)\n",
    "# ax.add_feature(cfeature.RIVERS, linewidth=.5, alpha=.5)\n",
    "\n",
    "# ax.scatter(x=customers[\"coords\"].apply(lambda c: c[1]), y=customers[\"coords\"].apply(lambda c: c[0]), s=4, transform=crs)\n",
    "# for i, row in customers.iterrows():\n",
    "#     label = f\"{row['ocel:oid']} ({row['city']})\"\n",
    "#     print(label)\n",
    "#     ax.annotate(label, row[\"coords\"], xytext=(5,5), textcoords=\"offset pixels\", transform=crs, fontsize=20, color=\"black\")\n",
    "\n",
    "# plt.show()"
   ]
  }
 ],
 "metadata": {
  "kernelspec": {
   "display_name": "Python 3 (ipykernel)",
   "language": "python",
   "name": "python3"
  },
  "language_info": {
   "codemirror_mode": {
    "name": "ipython",
    "version": 3
   },
   "file_extension": ".py",
   "mimetype": "text/x-python",
   "name": "python",
   "nbconvert_exporter": "python",
   "pygments_lexer": "ipython3",
   "version": "3.10.4"
  }
 },
 "nbformat": 4,
 "nbformat_minor": 5
}
